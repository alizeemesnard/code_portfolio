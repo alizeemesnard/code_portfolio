{
 "cells": [
  {
   "cell_type": "markdown",
   "metadata": {},
   "source": [
    "# Classification de séries temporelles à partir d'un réseau de neurones de convolution"
   ]
  },
  {
   "cell_type": "markdown",
   "metadata": {},
   "source": [
    "### 1. Importation des bibliothèques nécessaires"
   ]
  },
  {
   "cell_type": "code",
   "execution_count": 1,
   "metadata": {},
   "outputs": [],
   "source": [
    "import matplotlib.pyplot as plt\n",
    "import pandas as pd\n",
    "import numpy as np\n",
    "from sklearn.cluster import KMeans\n",
    "from sklearn.preprocessing import StandardScaler, MinMaxScaler\n",
    "from sklearn.model_selection import train_test_split\n",
    "from keras.models import Sequential\n",
    "from keras.layers import Conv1D, BatchNormalization, Flatten, Dense\n",
    "from keras.utils import to_categorical\n",
    "import seaborn as sns\n",
    "from tensorflow import keras\n",
    "from sklearn.preprocessing import OneHotEncoder"
   ]
  },
  {
   "cell_type": "markdown",
   "metadata": {},
   "source": [
    "### 2. Chargement du dataset et preprocessing"
   ]
  },
  {
   "cell_type": "code",
   "execution_count": 3,
   "metadata": {},
   "outputs": [
    {
     "data": {
      "text/html": [
       "<div>\n",
       "<style scoped>\n",
       "    .dataframe tbody tr th:only-of-type {\n",
       "        vertical-align: middle;\n",
       "    }\n",
       "\n",
       "    .dataframe tbody tr th {\n",
       "        vertical-align: top;\n",
       "    }\n",
       "\n",
       "    .dataframe thead th {\n",
       "        text-align: right;\n",
       "    }\n",
       "</style>\n",
       "<table border=\"1\" class=\"dataframe\">\n",
       "  <thead>\n",
       "    <tr style=\"text-align: right;\">\n",
       "      <th></th>\n",
       "      <th>rowId</th>\n",
       "      <th>Generation [kW]</th>\n",
       "      <th>CT15_Amperage [A]</th>\n",
       "      <th>CT13_Amperage [A]</th>\n",
       "      <th>CT12_Amperage [A]</th>\n",
       "      <th>CT11_Amperage [A]</th>\n",
       "      <th>CT10_Amperage [A]</th>\n",
       "      <th>CT9_Amperage [A]</th>\n",
       "      <th>CT8_Amperage [A]</th>\n",
       "      <th>CT7_Amperage [A]</th>\n",
       "      <th>CT6_Amperage [A]</th>\n",
       "      <th>CT3_Amperage [A]</th>\n",
       "      <th>CT2_Amperage [A]</th>\n",
       "      <th>CT5_Amperage [A]</th>\n",
       "      <th>CT4_Amperage [A]</th>\n",
       "      <th>CT14_Amperage [A]</th>\n",
       "    </tr>\n",
       "    <tr>\n",
       "      <th>Date &amp; Time</th>\n",
       "      <th></th>\n",
       "      <th></th>\n",
       "      <th></th>\n",
       "      <th></th>\n",
       "      <th></th>\n",
       "      <th></th>\n",
       "      <th></th>\n",
       "      <th></th>\n",
       "      <th></th>\n",
       "      <th></th>\n",
       "      <th></th>\n",
       "      <th></th>\n",
       "      <th></th>\n",
       "      <th></th>\n",
       "      <th></th>\n",
       "      <th></th>\n",
       "    </tr>\n",
       "  </thead>\n",
       "  <tbody>\n",
       "    <tr>\n",
       "      <th>2019-08-08 15:00:00</th>\n",
       "      <td>544952.0</td>\n",
       "      <td>4.186428</td>\n",
       "      <td>0.115783</td>\n",
       "      <td>0.130540</td>\n",
       "      <td>1.947749</td>\n",
       "      <td>0.347324</td>\n",
       "      <td>0.317950</td>\n",
       "      <td>1.447450</td>\n",
       "      <td>0.885286</td>\n",
       "      <td>1.553972</td>\n",
       "      <td>6.973518</td>\n",
       "      <td>9.122383</td>\n",
       "      <td>9.701496</td>\n",
       "      <td>3.478219</td>\n",
       "      <td>0.459240</td>\n",
       "      <td>0.128536</td>\n",
       "    </tr>\n",
       "    <tr>\n",
       "      <th>2019-08-08 15:15:00</th>\n",
       "      <td>544951.0</td>\n",
       "      <td>8.963509</td>\n",
       "      <td>0.117276</td>\n",
       "      <td>0.131006</td>\n",
       "      <td>2.156672</td>\n",
       "      <td>0.371150</td>\n",
       "      <td>0.420760</td>\n",
       "      <td>1.574633</td>\n",
       "      <td>1.127057</td>\n",
       "      <td>1.528567</td>\n",
       "      <td>18.487846</td>\n",
       "      <td>17.092139</td>\n",
       "      <td>11.508376</td>\n",
       "      <td>3.906352</td>\n",
       "      <td>0.369110</td>\n",
       "      <td>0.128700</td>\n",
       "    </tr>\n",
       "    <tr>\n",
       "      <th>2019-08-08 15:30:00</th>\n",
       "      <td>544950.0</td>\n",
       "      <td>5.896692</td>\n",
       "      <td>0.116692</td>\n",
       "      <td>0.130749</td>\n",
       "      <td>1.740806</td>\n",
       "      <td>0.373436</td>\n",
       "      <td>0.221863</td>\n",
       "      <td>1.516158</td>\n",
       "      <td>0.679564</td>\n",
       "      <td>1.481699</td>\n",
       "      <td>11.531952</td>\n",
       "      <td>11.335806</td>\n",
       "      <td>11.244882</td>\n",
       "      <td>4.049105</td>\n",
       "      <td>0.453373</td>\n",
       "      <td>0.128777</td>\n",
       "    </tr>\n",
       "    <tr>\n",
       "      <th>2019-08-08 15:45:00</th>\n",
       "      <td>544949.0</td>\n",
       "      <td>4.418457</td>\n",
       "      <td>0.111447</td>\n",
       "      <td>0.125818</td>\n",
       "      <td>1.686262</td>\n",
       "      <td>0.308933</td>\n",
       "      <td>0.196249</td>\n",
       "      <td>1.477777</td>\n",
       "      <td>0.605557</td>\n",
       "      <td>1.498686</td>\n",
       "      <td>8.172528</td>\n",
       "      <td>8.843417</td>\n",
       "      <td>8.637452</td>\n",
       "      <td>4.421196</td>\n",
       "      <td>0.460627</td>\n",
       "      <td>0.123712</td>\n",
       "    </tr>\n",
       "    <tr>\n",
       "      <th>2019-08-08 16:00:00</th>\n",
       "      <td>544948.0</td>\n",
       "      <td>5.967389</td>\n",
       "      <td>0.111589</td>\n",
       "      <td>0.124989</td>\n",
       "      <td>1.591017</td>\n",
       "      <td>0.304450</td>\n",
       "      <td>0.220551</td>\n",
       "      <td>1.454292</td>\n",
       "      <td>0.587173</td>\n",
       "      <td>1.487338</td>\n",
       "      <td>10.654713</td>\n",
       "      <td>10.736909</td>\n",
       "      <td>8.866664</td>\n",
       "      <td>4.487676</td>\n",
       "      <td>0.549718</td>\n",
       "      <td>0.123486</td>\n",
       "    </tr>\n",
       "  </tbody>\n",
       "</table>\n",
       "</div>"
      ],
      "text/plain": [
       "                        rowId  Generation [kW]  CT15_Amperage [A]  \\\n",
       "Date & Time                                                         \n",
       "2019-08-08 15:00:00  544952.0         4.186428           0.115783   \n",
       "2019-08-08 15:15:00  544951.0         8.963509           0.117276   \n",
       "2019-08-08 15:30:00  544950.0         5.896692           0.116692   \n",
       "2019-08-08 15:45:00  544949.0         4.418457           0.111447   \n",
       "2019-08-08 16:00:00  544948.0         5.967389           0.111589   \n",
       "\n",
       "                     CT13_Amperage [A]  CT12_Amperage [A]  CT11_Amperage [A]  \\\n",
       "Date & Time                                                                    \n",
       "2019-08-08 15:00:00           0.130540           1.947749           0.347324   \n",
       "2019-08-08 15:15:00           0.131006           2.156672           0.371150   \n",
       "2019-08-08 15:30:00           0.130749           1.740806           0.373436   \n",
       "2019-08-08 15:45:00           0.125818           1.686262           0.308933   \n",
       "2019-08-08 16:00:00           0.124989           1.591017           0.304450   \n",
       "\n",
       "                     CT10_Amperage [A]  CT9_Amperage [A]  CT8_Amperage [A]  \\\n",
       "Date & Time                                                                  \n",
       "2019-08-08 15:00:00           0.317950          1.447450          0.885286   \n",
       "2019-08-08 15:15:00           0.420760          1.574633          1.127057   \n",
       "2019-08-08 15:30:00           0.221863          1.516158          0.679564   \n",
       "2019-08-08 15:45:00           0.196249          1.477777          0.605557   \n",
       "2019-08-08 16:00:00           0.220551          1.454292          0.587173   \n",
       "\n",
       "                     CT7_Amperage [A]  CT6_Amperage [A]  CT3_Amperage [A]  \\\n",
       "Date & Time                                                                 \n",
       "2019-08-08 15:00:00          1.553972          6.973518          9.122383   \n",
       "2019-08-08 15:15:00          1.528567         18.487846         17.092139   \n",
       "2019-08-08 15:30:00          1.481699         11.531952         11.335806   \n",
       "2019-08-08 15:45:00          1.498686          8.172528          8.843417   \n",
       "2019-08-08 16:00:00          1.487338         10.654713         10.736909   \n",
       "\n",
       "                     CT2_Amperage [A]  CT5_Amperage [A]  CT4_Amperage [A]  \\\n",
       "Date & Time                                                                 \n",
       "2019-08-08 15:00:00          9.701496          3.478219          0.459240   \n",
       "2019-08-08 15:15:00         11.508376          3.906352          0.369110   \n",
       "2019-08-08 15:30:00         11.244882          4.049105          0.453373   \n",
       "2019-08-08 15:45:00          8.637452          4.421196          0.460627   \n",
       "2019-08-08 16:00:00          8.866664          4.487676          0.549718   \n",
       "\n",
       "                     CT14_Amperage [A]  \n",
       "Date & Time                             \n",
       "2019-08-08 15:00:00           0.128536  \n",
       "2019-08-08 15:15:00           0.128700  \n",
       "2019-08-08 15:30:00           0.128777  \n",
       "2019-08-08 15:45:00           0.123712  \n",
       "2019-08-08 16:00:00           0.123486  "
      ]
     },
     "execution_count": 3,
     "metadata": {},
     "output_type": "execute_result"
    }
   ],
   "source": [
    "df = pd.read_csv('../data_index.csv', usecols=[0,1,3,4,5,6,7,8,9,10,11,12,13,14,19,20,21], parse_dates=['Date & Time'], index_col=1)\n",
    "data = df.resample('15Min').mean()  # Resample par 15 minutes\n",
    "data = data.dropna()\n",
    "data.head()"
   ]
  },
  {
   "cell_type": "code",
   "execution_count": 4,
   "metadata": {},
   "outputs": [
    {
     "name": "stdout",
     "output_type": "stream",
     "text": [
      "Index(['rowId', 'Generation [kW]', 'CT15_Amperage [A]', 'CT13_Amperage [A]',\n",
      "       'CT12_Amperage [A]', 'CT11_Amperage [A]', 'CT10_Amperage [A]',\n",
      "       'CT9_Amperage [A]', 'CT8_Amperage [A]', 'CT7_Amperage [A]',\n",
      "       'CT6_Amperage [A]', 'CT3_Amperage [A]', 'CT2_Amperage [A]',\n",
      "       'CT5_Amperage [A]', 'CT4_Amperage [A]', 'CT14_Amperage [A]'],\n",
      "      dtype='object')\n"
     ]
    }
   ],
   "source": [
    "print(df.columns)"
   ]
  },
  {
   "cell_type": "code",
   "execution_count": 5,
   "metadata": {},
   "outputs": [
    {
     "data": {
      "image/png": "[encoded data removed]",
      "text/plain": [
       "<Figure size 1800x600 with 1 Axes>"
      ]
     },
     "metadata": {},
     "output_type": "display_data"
    }
   ],
   "source": [
    "fig = plt.figure(figsize=(18, 6))\n",
    "ax = fig.add_subplot(111)\n",
    "data['Generation [kW]'].plot(ax=ax)\n",
    "plt.grid(True)\n",
    "plt.show()"
   ]
  },
  {
   "cell_type": "code",
   "execution_count": 6,
   "metadata": {},
   "outputs": [
    {
     "data": {
      "text/html": [
       "<div>\n",
       "<style scoped>\n",
       "    .dataframe tbody tr th:only-of-type {\n",
       "        vertical-align: middle;\n",
       "    }\n",
       "\n",
       "    .dataframe tbody tr th {\n",
       "        vertical-align: top;\n",
       "    }\n",
       "\n",
       "    .dataframe thead th {\n",
       "        text-align: right;\n",
       "    }\n",
       "</style>\n",
       "<table border=\"1\" class=\"dataframe\">\n",
       "  <thead>\n",
       "    <tr style=\"text-align: right;\">\n",
       "      <th></th>\n",
       "      <th>CT15_Amperage [A]</th>\n",
       "      <th>CT13_Amperage [A]</th>\n",
       "      <th>CT14_Amperage [A]</th>\n",
       "      <th>CT12_Amperage [A]</th>\n",
       "      <th>CT11_Amperage [A]</th>\n",
       "      <th>CT10_Amperage [A]</th>\n",
       "      <th>CT9_Amperage [A]</th>\n",
       "      <th>CT8_Amperage [A]</th>\n",
       "      <th>CT7_Amperage [A]</th>\n",
       "      <th>CT6_Amperage [A]</th>\n",
       "      <th>CT3_Amperage [A]</th>\n",
       "      <th>CT2_Amperage [A]</th>\n",
       "    </tr>\n",
       "    <tr>\n",
       "      <th>Date &amp; Time</th>\n",
       "      <th></th>\n",
       "      <th></th>\n",
       "      <th></th>\n",
       "      <th></th>\n",
       "      <th></th>\n",
       "      <th></th>\n",
       "      <th></th>\n",
       "      <th></th>\n",
       "      <th></th>\n",
       "      <th></th>\n",
       "      <th></th>\n",
       "      <th></th>\n",
       "    </tr>\n",
       "  </thead>\n",
       "  <tbody>\n",
       "    <tr>\n",
       "      <th>2019-08-08 15:00:00</th>\n",
       "      <td>0.115783</td>\n",
       "      <td>0.130540</td>\n",
       "      <td>0.128536</td>\n",
       "      <td>1.947749</td>\n",
       "      <td>0.347324</td>\n",
       "      <td>0.317950</td>\n",
       "      <td>1.447450</td>\n",
       "      <td>0.885286</td>\n",
       "      <td>1.553972</td>\n",
       "      <td>6.973518</td>\n",
       "      <td>9.122383</td>\n",
       "      <td>9.701496</td>\n",
       "    </tr>\n",
       "    <tr>\n",
       "      <th>2019-08-08 15:15:00</th>\n",
       "      <td>0.117276</td>\n",
       "      <td>0.131006</td>\n",
       "      <td>0.128700</td>\n",
       "      <td>2.156672</td>\n",
       "      <td>0.371150</td>\n",
       "      <td>0.420760</td>\n",
       "      <td>1.574633</td>\n",
       "      <td>1.127057</td>\n",
       "      <td>1.528567</td>\n",
       "      <td>18.487846</td>\n",
       "      <td>17.092139</td>\n",
       "      <td>11.508376</td>\n",
       "    </tr>\n",
       "    <tr>\n",
       "      <th>2019-08-08 15:30:00</th>\n",
       "      <td>0.116692</td>\n",
       "      <td>0.130749</td>\n",
       "      <td>0.128777</td>\n",
       "      <td>1.740806</td>\n",
       "      <td>0.373436</td>\n",
       "      <td>0.221863</td>\n",
       "      <td>1.516158</td>\n",
       "      <td>0.679564</td>\n",
       "      <td>1.481699</td>\n",
       "      <td>11.531952</td>\n",
       "      <td>11.335806</td>\n",
       "      <td>11.244882</td>\n",
       "    </tr>\n",
       "    <tr>\n",
       "      <th>2019-08-08 15:45:00</th>\n",
       "      <td>0.111447</td>\n",
       "      <td>0.125818</td>\n",
       "      <td>0.123712</td>\n",
       "      <td>1.686262</td>\n",
       "      <td>0.308933</td>\n",
       "      <td>0.196249</td>\n",
       "      <td>1.477777</td>\n",
       "      <td>0.605557</td>\n",
       "      <td>1.498686</td>\n",
       "      <td>8.172528</td>\n",
       "      <td>8.843417</td>\n",
       "      <td>8.637452</td>\n",
       "    </tr>\n",
       "    <tr>\n",
       "      <th>2019-08-08 16:00:00</th>\n",
       "      <td>0.111589</td>\n",
       "      <td>0.124989</td>\n",
       "      <td>0.123486</td>\n",
       "      <td>1.591017</td>\n",
       "      <td>0.304450</td>\n",
       "      <td>0.220551</td>\n",
       "      <td>1.454292</td>\n",
       "      <td>0.587173</td>\n",
       "      <td>1.487338</td>\n",
       "      <td>10.654713</td>\n",
       "      <td>10.736909</td>\n",
       "      <td>8.866664</td>\n",
       "    </tr>\n",
       "  </tbody>\n",
       "</table>\n",
       "</div>"
      ],
      "text/plain": [
       "                     CT15_Amperage [A]  CT13_Amperage [A]  CT14_Amperage [A]  \\\n",
       "Date & Time                                                                    \n",
       "2019-08-08 15:00:00           0.115783           0.130540           0.128536   \n",
       "2019-08-08 15:15:00           0.117276           0.131006           0.128700   \n",
       "2019-08-08 15:30:00           0.116692           0.130749           0.128777   \n",
       "2019-08-08 15:45:00           0.111447           0.125818           0.123712   \n",
       "2019-08-08 16:00:00           0.111589           0.124989           0.123486   \n",
       "\n",
       "                     CT12_Amperage [A]  CT11_Amperage [A]  CT10_Amperage [A]  \\\n",
       "Date & Time                                                                    \n",
       "2019-08-08 15:00:00           1.947749           0.347324           0.317950   \n",
       "2019-08-08 15:15:00           2.156672           0.371150           0.420760   \n",
       "2019-08-08 15:30:00           1.740806           0.373436           0.221863   \n",
       "2019-08-08 15:45:00           1.686262           0.308933           0.196249   \n",
       "2019-08-08 16:00:00           1.591017           0.304450           0.220551   \n",
       "\n",
       "                     CT9_Amperage [A]  CT8_Amperage [A]  CT7_Amperage [A]  \\\n",
       "Date & Time                                                                 \n",
       "2019-08-08 15:00:00          1.447450          0.885286          1.553972   \n",
       "2019-08-08 15:15:00          1.574633          1.127057          1.528567   \n",
       "2019-08-08 15:30:00          1.516158          0.679564          1.481699   \n",
       "2019-08-08 15:45:00          1.477777          0.605557          1.498686   \n",
       "2019-08-08 16:00:00          1.454292          0.587173          1.487338   \n",
       "\n",
       "                     CT6_Amperage [A]  CT3_Amperage [A]  CT2_Amperage [A]  \n",
       "Date & Time                                                                \n",
       "2019-08-08 15:00:00          6.973518          9.122383          9.701496  \n",
       "2019-08-08 15:15:00         18.487846         17.092139         11.508376  \n",
       "2019-08-08 15:30:00         11.531952         11.335806         11.244882  \n",
       "2019-08-08 15:45:00          8.172528          8.843417          8.637452  \n",
       "2019-08-08 16:00:00         10.654713         10.736909          8.866664  "
      ]
     },
     "execution_count": 6,
     "metadata": {},
     "output_type": "execute_result"
    }
   ],
   "source": [
    "cols_of_interest = ['CT15_Amperage [A]', 'CT13_Amperage [A]', 'CT14_Amperage [A]', 'CT12_Amperage [A]', 'CT11_Amperage [A]', 'CT10_Amperage [A]', 'CT9_Amperage [A]', 'CT8_Amperage [A]', 'CT7_Amperage [A]', 'CT6_Amperage [A]', 'CT3_Amperage [A]', 'CT2_Amperage [A]']\n",
    "data = data[cols_of_interest]\n",
    "data.head()"
   ]
  },
  {
   "cell_type": "code",
   "execution_count": 7,
   "metadata": {},
   "outputs": [
    {
     "data": {
      "image/png": "[encoded data removed]",
      "text/plain": [
       "<Figure size 640x480 with 1 Axes>"
      ]
     },
     "metadata": {},
     "output_type": "display_data"
    }
   ],
   "source": [
    "from sklearn.preprocessing import StandardScaler\n",
    "from sklearn.cluster import KMeans\n",
    "import matplotlib.pyplot as plt\n",
    "\n",
    "# Standardisation des données\n",
    "X = StandardScaler().fit_transform(data)\n",
    "\n",
    "# Définition de la plage de k\n",
    "K = range(1, 15)\n",
    "\n",
    "# Initialisation de la liste pour stocker les sommes des distances\n",
    "sum_of_squared_distances = []\n",
    "\n",
    "# Calcul de l'inertie pour chaque valeur de k\n",
    "for k in K:\n",
    "    k_means = KMeans(n_clusters=k)\n",
    "    model = k_means.fit(X)\n",
    "    sum_of_squared_distances.append(k_means.inertia_)\n",
    "\n",
    "# Affichage du graphique pour la méthode du coude\n",
    "plt.plot(K, sum_of_squared_distances, 'bx-')\n",
    "plt.xlabel('k')\n",
    "plt.ylabel('Sum of Squared Distances')\n",
    "plt.title('Elbow Method for Optimal k')\n",
    "plt.show()"
   ]
  },
  {
   "cell_type": "markdown",
   "metadata": {},
   "source": [
    "## 3. Consultation de l'ordonnancement des données du dataset."
   ]
  },
  {
   "cell_type": "code",
   "execution_count": 8,
   "metadata": {},
   "outputs": [
    {
     "data": {
      "text/html": [
       "<div>\n",
       "<style scoped>\n",
       "    .dataframe tbody tr th:only-of-type {\n",
       "        vertical-align: middle;\n",
       "    }\n",
       "\n",
       "    .dataframe tbody tr th {\n",
       "        vertical-align: top;\n",
       "    }\n",
       "\n",
       "    .dataframe thead th {\n",
       "        text-align: right;\n",
       "    }\n",
       "</style>\n",
       "<table border=\"1\" class=\"dataframe\">\n",
       "  <thead>\n",
       "    <tr style=\"text-align: right;\">\n",
       "      <th></th>\n",
       "      <th>CT15_Amperage [A]</th>\n",
       "      <th>CT13_Amperage [A]</th>\n",
       "      <th>CT14_Amperage [A]</th>\n",
       "      <th>CT12_Amperage [A]</th>\n",
       "      <th>CT11_Amperage [A]</th>\n",
       "      <th>CT10_Amperage [A]</th>\n",
       "      <th>CT9_Amperage [A]</th>\n",
       "      <th>CT8_Amperage [A]</th>\n",
       "      <th>CT7_Amperage [A]</th>\n",
       "      <th>CT6_Amperage [A]</th>\n",
       "      <th>CT3_Amperage [A]</th>\n",
       "      <th>CT2_Amperage [A]</th>\n",
       "      <th>cluster</th>\n",
       "    </tr>\n",
       "    <tr>\n",
       "      <th>Date &amp; Time</th>\n",
       "      <th></th>\n",
       "      <th></th>\n",
       "      <th></th>\n",
       "      <th></th>\n",
       "      <th></th>\n",
       "      <th></th>\n",
       "      <th></th>\n",
       "      <th></th>\n",
       "      <th></th>\n",
       "      <th></th>\n",
       "      <th></th>\n",
       "      <th></th>\n",
       "      <th></th>\n",
       "    </tr>\n",
       "  </thead>\n",
       "  <tbody>\n",
       "    <tr>\n",
       "      <th>2019-08-08 15:00:00</th>\n",
       "      <td>0.115783</td>\n",
       "      <td>0.130540</td>\n",
       "      <td>0.128536</td>\n",
       "      <td>1.947749</td>\n",
       "      <td>0.347324</td>\n",
       "      <td>0.317950</td>\n",
       "      <td>1.447450</td>\n",
       "      <td>0.885286</td>\n",
       "      <td>1.553972</td>\n",
       "      <td>6.973518</td>\n",
       "      <td>9.122383</td>\n",
       "      <td>9.701496</td>\n",
       "      <td>0</td>\n",
       "    </tr>\n",
       "    <tr>\n",
       "      <th>2019-08-08 15:15:00</th>\n",
       "      <td>0.117276</td>\n",
       "      <td>0.131006</td>\n",
       "      <td>0.128700</td>\n",
       "      <td>2.156672</td>\n",
       "      <td>0.371150</td>\n",
       "      <td>0.420760</td>\n",
       "      <td>1.574633</td>\n",
       "      <td>1.127057</td>\n",
       "      <td>1.528567</td>\n",
       "      <td>18.487846</td>\n",
       "      <td>17.092139</td>\n",
       "      <td>11.508376</td>\n",
       "      <td>1</td>\n",
       "    </tr>\n",
       "    <tr>\n",
       "      <th>2019-08-08 15:30:00</th>\n",
       "      <td>0.116692</td>\n",
       "      <td>0.130749</td>\n",
       "      <td>0.128777</td>\n",
       "      <td>1.740806</td>\n",
       "      <td>0.373436</td>\n",
       "      <td>0.221863</td>\n",
       "      <td>1.516158</td>\n",
       "      <td>0.679564</td>\n",
       "      <td>1.481699</td>\n",
       "      <td>11.531952</td>\n",
       "      <td>11.335806</td>\n",
       "      <td>11.244882</td>\n",
       "      <td>0</td>\n",
       "    </tr>\n",
       "    <tr>\n",
       "      <th>2019-08-08 15:45:00</th>\n",
       "      <td>0.111447</td>\n",
       "      <td>0.125818</td>\n",
       "      <td>0.123712</td>\n",
       "      <td>1.686262</td>\n",
       "      <td>0.308933</td>\n",
       "      <td>0.196249</td>\n",
       "      <td>1.477777</td>\n",
       "      <td>0.605557</td>\n",
       "      <td>1.498686</td>\n",
       "      <td>8.172528</td>\n",
       "      <td>8.843417</td>\n",
       "      <td>8.637452</td>\n",
       "      <td>0</td>\n",
       "    </tr>\n",
       "    <tr>\n",
       "      <th>2019-08-08 16:00:00</th>\n",
       "      <td>0.111589</td>\n",
       "      <td>0.124989</td>\n",
       "      <td>0.123486</td>\n",
       "      <td>1.591017</td>\n",
       "      <td>0.304450</td>\n",
       "      <td>0.220551</td>\n",
       "      <td>1.454292</td>\n",
       "      <td>0.587173</td>\n",
       "      <td>1.487338</td>\n",
       "      <td>10.654713</td>\n",
       "      <td>10.736909</td>\n",
       "      <td>8.866664</td>\n",
       "      <td>0</td>\n",
       "    </tr>\n",
       "  </tbody>\n",
       "</table>\n",
       "</div>"
      ],
      "text/plain": [
       "                     CT15_Amperage [A]  CT13_Amperage [A]  CT14_Amperage [A]  \\\n",
       "Date & Time                                                                    \n",
       "2019-08-08 15:00:00           0.115783           0.130540           0.128536   \n",
       "2019-08-08 15:15:00           0.117276           0.131006           0.128700   \n",
       "2019-08-08 15:30:00           0.116692           0.130749           0.128777   \n",
       "2019-08-08 15:45:00           0.111447           0.125818           0.123712   \n",
       "2019-08-08 16:00:00           0.111589           0.124989           0.123486   \n",
       "\n",
       "                     CT12_Amperage [A]  CT11_Amperage [A]  CT10_Amperage [A]  \\\n",
       "Date & Time                                                                    \n",
       "2019-08-08 15:00:00           1.947749           0.347324           0.317950   \n",
       "2019-08-08 15:15:00           2.156672           0.371150           0.420760   \n",
       "2019-08-08 15:30:00           1.740806           0.373436           0.221863   \n",
       "2019-08-08 15:45:00           1.686262           0.308933           0.196249   \n",
       "2019-08-08 16:00:00           1.591017           0.304450           0.220551   \n",
       "\n",
       "                     CT9_Amperage [A]  CT8_Amperage [A]  CT7_Amperage [A]  \\\n",
       "Date & Time                                                                 \n",
       "2019-08-08 15:00:00          1.447450          0.885286          1.553972   \n",
       "2019-08-08 15:15:00          1.574633          1.127057          1.528567   \n",
       "2019-08-08 15:30:00          1.516158          0.679564          1.481699   \n",
       "2019-08-08 15:45:00          1.477777          0.605557          1.498686   \n",
       "2019-08-08 16:00:00          1.454292          0.587173          1.487338   \n",
       "\n",
       "                     CT6_Amperage [A]  CT3_Amperage [A]  CT2_Amperage [A]  \\\n",
       "Date & Time                                                                 \n",
       "2019-08-08 15:00:00          6.973518          9.122383          9.701496   \n",
       "2019-08-08 15:15:00         18.487846         17.092139         11.508376   \n",
       "2019-08-08 15:30:00         11.531952         11.335806         11.244882   \n",
       "2019-08-08 15:45:00          8.172528          8.843417          8.637452   \n",
       "2019-08-08 16:00:00         10.654713         10.736909          8.866664   \n",
       "\n",
       "                     cluster  \n",
       "Date & Time                   \n",
       "2019-08-08 15:00:00        0  \n",
       "2019-08-08 15:15:00        1  \n",
       "2019-08-08 15:30:00        0  \n",
       "2019-08-08 15:45:00        0  \n",
       "2019-08-08 16:00:00        0  "
      ]
     },
     "execution_count": 8,
     "metadata": {},
     "output_type": "execute_result"
    }
   ],
   "source": [
    "scaler = StandardScaler()\n",
    "X_scaled = scaler.fit_transform(data)\n",
    "\n",
    "#Clustering\n",
    "kmeans = KMeans(n_clusters=4)\n",
    "model = kmeans.fit(X_scaled)\n",
    "## TOUT SE JOUE SUR CES DEUX LIGNES , on reprend les labels du résultat de kmeans qui a fait le boulot pour nous\n",
    "y_hat = kmeans.predict(X_scaled)\n",
    "labels = kmeans.labels_\n",
    "data['cluster'] = labels\n",
    "data.head()"
   ]
  },
  {
   "cell_type": "markdown",
   "metadata": {},
   "source": [
    "## 4. Préparation de l'entrainement."
   ]
  },
  {
   "cell_type": "code",
   "execution_count": 9,
   "metadata": {},
   "outputs": [],
   "source": [
    "window_size = 400  # Taille de la fenêtre pour le CNN\n",
    "def create_dataset(X, y, window_size):\n",
    "    Xs, ys = [], []\n",
    "    for i in range(len(X) - window_size):\n",
    "        v = X.iloc[i:(i + window_size)].values\n",
    "        if v.shape[0] == window_size:  \n",
    "            Xs.append(v.reshape((window_size, -1)))  \n",
    "            ys.append(y.iloc[i + window_size])\n",
    "    return np.array(Xs), np.array(ys)"
   ]
  },
  {
   "cell_type": "code",
   "execution_count": 10,
   "metadata": {},
   "outputs": [
    {
     "name": "stdout",
     "output_type": "stream",
     "text": [
      "Distribution des clusters dans les données originales:\n",
      "cluster\n",
      "1    20121\n",
      "0    15111\n",
      "2    10626\n",
      "3     3764\n",
      "Name: count, dtype: int64\n",
      "\n",
      "Distribution des clusters dans l'ensemble de test:\n",
      "{3: 3364}\n",
      "Cluster 0 - Taille de X: 14711, Taille de y: 14711\n",
      "Cluster 1 - Taille de X: 19721, Taille de y: 19721\n",
      "Cluster 2 - Taille de X: 10226, Taille de y: 10226\n",
      "Cluster 3 - Taille de X: 3364, Taille de y: 3364\n",
      "Cluster 4 - Pas de données\n",
      "Cluster 5 - Pas de données\n",
      "Cluster 6 - Pas de données\n",
      "Cluster 7 - Pas de données\n",
      "Cluster 8 - Pas de données\n",
      "Cluster 9 - Pas de données\n",
      "Forme de X pour le cluster 0: (14711, 400, 12)\n",
      "Forme de X pour le cluster 1: (19721, 400, 12)\n",
      "Forme de X pour le cluster 2: (10226, 400, 12)\n",
      "Forme de X pour le cluster 3: (3364, 400, 12)\n",
      "Forme de y pour le cluster 0: (14711,)\n",
      "Forme de y pour le cluster 1: (19721,)\n",
      "Forme de y pour le cluster 2: (10226,)\n",
      "Forme de y pour le cluster 3: (3364,)\n"
     ]
    }
   ],
   "source": [
    "Xs, ys = [], []\n",
    "for cluster in range(4):\n",
    "    cluster_df = data[data['cluster'] == cluster]\n",
    "    X, y = create_dataset(cluster_df[cols_of_interest], cluster_df['cluster'], window_size)\n",
    "    if X.size > 0:  \n",
    "        Xs.append(X)\n",
    "        ys.append(y)\n",
    "\n",
    "\n",
    "print(\"Distribution des clusters dans les données originales:\")\n",
    "print(data['cluster'].value_counts())\n",
    "\n",
    "# Vérifier la distribution des clusters dans l'ensemble de test\n",
    "print(\"\\nDistribution des clusters dans l'ensemble de test:\")\n",
    "unique, counts = np.unique(y, return_counts=True)\n",
    "print(dict(zip(unique, counts)))\n",
    "\n",
    "# Vérifier la présence de chaque cluster dans Xs et ys\n",
    "for i in range(10):\n",
    "    if i < len(Xs) and i < len(ys):\n",
    "        print(f\"Cluster {i} - Taille de X: {Xs[i].shape[0]}, Taille de y: {ys[i].shape[0]}\")\n",
    "    else:\n",
    "        print(f\"Cluster {i} - Pas de données\")\n",
    "\n",
    "# Vérification des formes avant concaténation\n",
    "for i, X in enumerate(Xs):\n",
    "    print(f\"Forme de X pour le cluster {i}: {X.shape}\")\n",
    "for i, y in enumerate(ys):\n",
    "    print(f\"Forme de y pour le cluster {i}: {y.shape}\")\n",
    "\n",
    "#Concaténation des données de chaque cluster\n",
    "X_cnn = np.concatenate(Xs, axis=0)\n",
    "y_cnn = np.concatenate(ys, axis=0)\n"
   ]
  },
  {
   "cell_type": "code",
   "execution_count": 94,
   "metadata": {},
   "outputs": [],
   "source": [
    "X_train, X_test, y_train, y_test = train_test_split(X_cnn, y_cnn, test_size=0.2, random_state=42)\n",
    "\n",
    "min_max_scaler = MinMaxScaler()\n",
    "X_train = min_max_scaler.fit_transform(X_train.reshape(-1, X_train.shape[-1])).reshape(X_train.shape)\n",
    "X_test = min_max_scaler.transform(X_test.reshape(-1, X_test.shape[-1])).reshape(X_test.shape)"
   ]
  },
  {
   "cell_type": "code",
   "execution_count": 12,
   "metadata": {},
   "outputs": [],
   "source": [
    "y_train = to_categorical(y_train, num_classes=4)\n",
    "y_test = to_categorical(y_test, num_classes=4)"
   ]
  },
  {
   "cell_type": "markdown",
   "metadata": {},
   "source": [
    "Création d'un réseau de convolution à une dimension."
   ]
  },
  {
   "cell_type": "code",
   "execution_count": 13,
   "metadata": {},
   "outputs": [],
   "source": [
    "model = Sequential()\n",
    "model.add(Conv1D(filters=32, kernel_size=3, activation='relu', input_shape=(400, 12)))\n",
    "model.add(BatchNormalization())\n",
    "model.add(Conv1D(32, 3, activation='relu'))\n",
    "model.add(Flatten())\n",
    "model.add(Dense(50, activation='relu'))\n",
    "model.add(Dense(4, activation='softmax'))  # 4 classes\n",
    "\n",
    "model.compile(optimizer='adam', loss='categorical_crossentropy', metrics=['accuracy'])"
   ]
  },
  {
   "cell_type": "markdown",
   "metadata": {},
   "source": [
    "One_Hot_Encoding"
   ]
  },
  {
   "cell_type": "code",
   "execution_count": 14,
   "metadata": {},
   "outputs": [],
   "source": [
    "def one_hot_encode_classes(data, cols_of_interest):\n",
    "    \"\"\"\n",
    "    Encode les colonnes spécifiées en utilisant le one-hot encoding.\n",
    "    \n",
    "    Args:\n",
    "        data (pd.DataFrame): Le DataFrame contenant les données.\n",
    "        cols_of_interest (list): Liste des noms des colonnes à encoder.\n",
    "    \n",
    "    Returns:\n",
    "        np.ndarray: Matrice encodée sous forme de vecteurs one-hot.\n",
    "    \"\"\"\n",
    "    encoder = OneHotEncoder()\n",
    "    encoded_data = encoder.fit_transform(data[cols_of_interest])\n",
    "    return encoded_data, encoder"
   ]
  },
  {
   "cell_type": "code",
   "execution_count": 15,
   "metadata": {},
   "outputs": [
    {
     "name": "stdout",
     "output_type": "stream",
     "text": [
      "Forme des données encodées : (49622, 529933)\n",
      "Exemple de vecteur one-hot pour la première ligne : <Compressed Sparse Row sparse matrix of dtype 'float64'\n",
      "\twith 12 stored elements and shape (1, 529933)>\n",
      "  Coords\tValues\n",
      "  (0, 14311)\t1.0\n",
      "  (0, 61812)\t1.0\n",
      "  (0, 84641)\t1.0\n",
      "  (0, 114197)\t1.0\n",
      "  (0, 142873)\t1.0\n",
      "  (0, 189813)\t1.0\n",
      "  (0, 234162)\t1.0\n",
      "  (0, 291210)\t1.0\n",
      "  (0, 341527)\t1.0\n",
      "  (0, 406891)\t1.0\n",
      "  (0, 448230)\t1.0\n",
      "  (0, 503167)\t1.0\n"
     ]
    }
   ],
   "source": [
    "# Encodage des colonnes sélectionnées\n",
    "encoded_data, encoder = one_hot_encode_classes(data, cols_of_interest)\n",
    "\n",
    "# Affichage de la forme des données encodées\n",
    "print(\"Forme des données encodées :\", encoded_data.shape)\n",
    "\n",
    "# Exemple : premier vecteur one-hot\n",
    "print(\"Exemple de vecteur one-hot pour la première ligne :\", encoded_data[0])"
   ]
  },
  {
   "cell_type": "markdown",
   "metadata": {},
   "source": [
    "## 5. Entrainement"
   ]
  },
  {
   "cell_type": "code",
   "execution_count": 16,
   "metadata": {},
   "outputs": [
    {
     "name": "stdout",
     "output_type": "stream",
     "text": [
      "Epoch 1/10\n",
      "1201/1201 [==============================] - 8s 5ms/step - loss: 0.0351 - accuracy: 0.9930\n",
      "Epoch 2/10\n",
      "1201/1201 [==============================] - 7s 5ms/step - loss: 0.0056 - accuracy: 0.9988\n",
      "Epoch 3/10\n",
      "1201/1201 [==============================] - 7s 6ms/step - loss: 0.0183 - accuracy: 0.9969\n",
      "Epoch 4/10\n",
      "1201/1201 [==============================] - 7s 5ms/step - loss: 0.0074 - accuracy: 0.9986\n",
      "Epoch 5/10\n",
      "1201/1201 [==============================] - 7s 6ms/step - loss: 0.0073 - accuracy: 0.9990\n",
      "Epoch 6/10\n",
      "1201/1201 [==============================] - 6s 5ms/step - loss: 0.0021 - accuracy: 0.9996\n",
      "Epoch 7/10\n",
      "1201/1201 [==============================] - 6s 5ms/step - loss: 0.0013 - accuracy: 0.9998\n",
      "Epoch 8/10\n",
      "1201/1201 [==============================] - 7s 6ms/step - loss: 0.0047 - accuracy: 0.9991\n",
      "Epoch 9/10\n",
      "1201/1201 [==============================] - 7s 6ms/step - loss: 0.0045 - accuracy: 0.9990\n",
      "Epoch 10/10\n",
      "1201/1201 [==============================] - 6s 5ms/step - loss: 0.0028 - accuracy: 0.9994\n"
     ]
    },
    {
     "data": {
      "text/plain": [
       "<keras.src.callbacks.History at 0x308525030>"
      ]
     },
     "execution_count": 16,
     "metadata": {},
     "output_type": "execute_result"
    }
   ],
   "source": [
    "model.fit(X_train, y_train, epochs=10, batch_size=32)"
   ]
  },
  {
   "cell_type": "markdown",
   "metadata": {},
   "source": [
    "## 7. Matrice de confusion"
   ]
  },
  {
   "cell_type": "markdown",
   "metadata": {},
   "source": [
    "Création d'une matrice de confusion pour identifier la justesse de notre réseau et pour analyser quelles sont les types de catégories mal classés"
   ]
  },
  {
   "cell_type": "code",
   "execution_count": 17,
   "metadata": {},
   "outputs": [],
   "source": [
    "from sklearn.metrics import confusion_matrix"
   ]
  },
  {
   "cell_type": "code",
   "execution_count": 18,
   "metadata": {},
   "outputs": [
    {
     "name": "stdout",
     "output_type": "stream",
     "text": [
      "301/301 [==============================] - 1s 1ms/step\n"
     ]
    }
   ],
   "source": [
    "y_pred2=model.predict(X_test)\n",
    "y_pred2=np.argmax(y_pred2, axis=1)\n",
    "y_test2=np.argmax(y_test, axis=1)\n",
    "cm = confusion_matrix(y_test2, y_pred2)"
   ]
  },
  {
   "cell_type": "code",
   "execution_count": 19,
   "metadata": {},
   "outputs": [
    {
     "name": "stdout",
     "output_type": "stream",
     "text": [
      "[1 1 0 ... 2 1 1] [1 1 0 ... 2 1 1]\n"
     ]
    }
   ],
   "source": [
    "print(y_pred2,y_test2)"
   ]
  },
  {
   "cell_type": "code",
   "execution_count": 20,
   "metadata": {},
   "outputs": [
    {
     "data": {
      "image/png": "[encoded data removed]",
      "text/plain": [
       "<Figure size 800x600 with 2 Axes>"
      ]
     },
     "metadata": {},
     "output_type": "display_data"
    }
   ],
   "source": [
    "# Affichage de la matrice de confusion avec seaborn\n",
    "plt.figure(figsize=(8, 6))\n",
    "sns.heatmap(cm, annot=True, fmt='d', cmap='Blues', xticklabels=True, yticklabels=True)\n",
    "plt.xlabel('Predicted labels')\n",
    "plt.ylabel('True labels')\n",
    "plt.title('Confusion Matrix')\n",
    "plt.show()"
   ]
  }
 ],
 "metadata": {
  "kernelspec": {
   "display_name": "Python 3",
   "language": "python",
   "name": "python3"
  },
  "language_info": {
   "codemirror_mode": {
    "name": "ipython",
    "version": 3
   },
   "file_extension": ".py",
   "mimetype": "text/x-python",
   "name": "python",
   "nbconvert_exporter": "python",
   "pygments_lexer": "ipython3",
   "version": "3.10.0"
  }
 },
 "nbformat": 4,
 "nbformat_minor": 2
}
