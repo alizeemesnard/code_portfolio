{
 "cells": [
  {
   "cell_type": "markdown",
   "id": "862f18a9-89e6-4e9d-8311-e45fb490c02d",
   "metadata": {},
   "source": [
    "<div style=\"padding:20px; \n",
    "            color:#150d0a;\n",
    "            margin:10px;\n",
    "            font-size:220%;\n",
    "            text-align:center;\n",
    "            display:fill;\n",
    "            border-radius:20px;\n",
    "            border-width: 5px;\n",
    "            border-style: solid;\n",
    "            border-color: #150d0a;\n",
    "            background-color:#eca912;\n",
    "            overflow:hidden;\n",
    "            font-weight:500\">K-Moyennes pour l'analyse sémantique de mots</div>"
   ]
  },
  {
   "cell_type": "markdown",
   "id": "b36803ac-dc3c-462c-b26c-28809d8dee2e",
   "metadata": {},
   "source": [
    "## <font color='#eca912'>Table des matières<font><a class='anchor' id='toc'></a>\n",
    "- [1. Import des packages](#packages)\n",
    "- [2. Import du modèle](#model)\n",
    "- [3. Visualisation et manipulation des mots](#viz)\n",
    "- [4. Segmentation des mots](#segmentation)"
   ]
  },
  {
   "cell_type": "markdown",
   "id": "61c5b2ea-6ef4-47fe-bd39-33d668992603",
   "metadata": {},
   "source": [
    "## <font color=#eca912>1. Import des packages <a class='anchor' id='packages'></a></font>[↑](#toc)"
   ]
  },
  {
   "cell_type": "code",
   "execution_count": 3,
   "id": "eee14c38-0d9e-40ac-8259-ee6e6c3aa802",
   "metadata": {
    "editable": true,
    "slideshow": {
     "slide_type": ""
    },
    "tags": []
   },
   "outputs": [],
   "source": [
    "import gensim\n",
    "import matplotlib.pyplot as plt\n",
    "import numpy as np\n",
    "from sklearn.decomposition import PCA\n",
    "from sklearn.cluster import KMeans, MiniBatchKMeans\n",
    "import scipy\n",
    "import seaborn as sns\n",
    "import pandas as pd"
   ]
  },
  {
   "cell_type": "markdown",
   "id": "55d21b41-9383-49e8-a4a7-dab6044c055e",
   "metadata": {},
   "source": [
    "## <font color=#eca912>2. Import du modèle <a class='anchor' id='model'></a></font>[↑](#toc)"
   ]
  },
  {
   "cell_type": "code",
   "execution_count": 5,
   "id": "80cbdf11-782f-4c58-8968-950acbbb7af3",
   "metadata": {},
   "outputs": [],
   "source": [
    "model = gensim.models.KeyedVectors.load_word2vec_format(\"./modele_Word2Vec.bin\", binary=True, unicode_errors=\"ignore\")"
   ]
  },
  {
   "cell_type": "markdown",
   "id": "a17e7ded-3313-4e0b-9104-bd106b1ee174",
   "metadata": {},
   "source": [
    "## <font color=#eca912>3. Visualisation et manipulation des mots<a class='anchor' id='viz'></a></font>[↑](#toc)"
   ]
  },
  {
   "cell_type": "code",
   "execution_count": 6,
   "id": "9247bbb6-58fa-4a97-9533-bdfef510cd3a",
   "metadata": {},
   "outputs": [],
   "source": [
    "words = np.array(model.index_to_key)\n",
    "vectors = model.vectors"
   ]
  },
  {
   "cell_type": "code",
   "execution_count": 7,
   "id": "6ba8a622-fc34-4788-a4fc-0c422e7dc8de",
   "metadata": {},
   "outputs": [
    {
     "name": "stdout",
     "output_type": "stream",
     "text": [
      "Nombre de mots différents: (155562,)\n",
      "Nombre et dimension des vecteurs associés:(155562, 200)\n"
     ]
    }
   ],
   "source": [
    "print(f\"Nombre de mots différents: {words.shape}\")\n",
    "print(f\"Nombre et dimension des vecteurs associés:{vectors.shape}\")"
   ]
  },
  {
   "cell_type": "markdown",
   "id": "7604fed1",
   "metadata": {},
   "source": [
    "Ce sont des mots issus de sites webs en \".fr\"."
   ]
  },
  {
   "cell_type": "markdown",
   "id": "0797e8d5",
   "metadata": {},
   "source": [
    "+150 000 mots, transformés en vecteurs de taille 200"
   ]
  },
  {
   "cell_type": "code",
   "execution_count": null,
   "id": "c0529576-8bd4-4610-9759-9bc63c8a6630",
   "metadata": {},
   "outputs": [],
   "source": [
    "#Analyse en Composante Principale\n",
    "pca = PCA().fit(vectors)"
   ]
  },
  {
   "cell_type": "markdown",
   "id": "0186c1ea",
   "metadata": {},
   "source": [
    "L'ACP orthogonalise l'espace de vecteurs de sorte à maximiser l'information dans les premières dimensions = les composantes principales. "
   ]
  },
  {
   "cell_type": "code",
   "execution_count": 9,
   "id": "173b43c2-990b-410d-8e18-2895945e2684",
   "metadata": {},
   "outputs": [
    {
     "data": {
      "image/png": "[encoded data removed]",
      "text/plain": [
       "<Figure size 600x400 with 1 Axes>"
      ]
     },
     "metadata": {},
     "output_type": "display_data"
    }
   ],
   "source": [
    "fig, axs = plt.subplots(1,1,figsize=(6,4))\n",
    "axs.plot(np.cumsum(pca.explained_variance_ratio_), 'g--')\n",
    "axs.set_ylabel('Variance expliquée par les CPs')\n",
    "axs.set_xlabel('Nb de composantes principales')\n",
    "plt.show()"
   ]
  },
  {
   "cell_type": "code",
   "execution_count": 41,
   "id": "d71dd351",
   "metadata": {},
   "outputs": [
    {
     "name": "stdout",
     "output_type": "stream",
     "text": [
      "\n",
      "Pourcentage d'information conservée par nombre de composantes :\n",
      "10 composantes (= 5.0% des composantes): 9.33%\n",
      "20 composantes (= 10.0% des composantes): 16.59%\n",
      "30 composantes (= 15.0% des composantes): 23.07%\n",
      "50 composantes (= 25.0% des composantes): 34.71%\n",
      "75 composantes (= 37.5% des composantes): 47.83%\n",
      "100 composantes (= 50.0% des composantes): 59.90%\n",
      "150 composantes (= 75.0% des composantes): 81.59%\n",
      "200 composantes (= 100.0% des composantes): 100.00%\n"
     ]
    }
   ],
   "source": [
    "# Création d'un tableau pour montrer précisément les valeurs de conservation d'information\n",
    "components_to_show = [10, 20, 30, 50, 75, 100, 150, 200]\n",
    "info_retained = [cumulative_variance[n-1] * 100 for n in components_to_show]\n",
    "\n",
    "# Afficher les résultats sous forme de tableau\n",
    "print(\"\\nPourcentage d'information conservée par nombre de composantes :\")\n",
    "for comp, info in zip(components_to_show, info_retained):\n",
    "    print(f\"{comp} composantes (= {comp/2}% des composantes): {info:.2f}%\")"
   ]
  },
  {
   "cell_type": "markdown",
   "id": "ccb7c233",
   "metadata": {},
   "source": [
    "Analyse des résultats: \n",
    "\n",
    "1. Distribution de l'information : \n",
    "- Pour atteindre 50% de l'information, il faut 80 composantes sur 200, soit 40% des dimensions originales. \n",
    "- Ça montre que l'information est plutôt dispersée à travers les dimensions.\n",
    "\n",
    "2. Rendement décroissant :\n",
    "- Les 80 premières composantes capturent 50% de l'information\n",
    "- Les 55 composantes suivantes (jusqu'à 135) n'ajoutent que 25% d'information supplémentaire\n",
    "- Les 37 composantes suivantes (jusqu'à 172) n'ajoutent que 15% d'information\n",
    "- Les 13 dernières composantes (jusqu'à 185) n'ajoutent que 5% d'information\n",
    "\n",
    "\n",
    "mais... quand même, c'est à peu près linéaire, ce qui veut dire qu'on ne peut pas vraiment compresser davantage l'information. Avec 200 composantes, on a une quantité d'information pertinente, c'est bien construit. Quasi toutes les composantes sont à garder."
   ]
  },
  {
   "cell_type": "markdown",
   "id": "b011ea66-c60f-4375-a3ec-d3f9e1ef2b6e",
   "metadata": {},
   "source": [
    "## <font color=#eca912>4. Segmentation des mots<a class='anchor' id='segmentation'></a></font>[↑](#toc)"
   ]
  },
  {
   "cell_type": "code",
   "execution_count": 10,
   "id": "1ec453ff-40a2-409d-9111-b0e4189bc816",
   "metadata": {},
   "outputs": [],
   "source": [
    "km = KMeans(n_clusters=10, init='k-means++', n_init=1, random_state=91000)"
   ]
  },
  {
   "cell_type": "code",
   "execution_count": 11,
   "id": "64743150-1720-4d90-add5-f07397f617ef",
   "metadata": {},
   "outputs": [
    {
     "name": "stdout",
     "output_type": "stream",
     "text": [
      "CPU times: user 8.86 s, sys: 598 ms, total: 9.45 s\n",
      "Wall time: 1.34 s\n"
     ]
    }
   ],
   "source": [
    "%%time\n",
    "km = km.fit(vectors)"
   ]
  },
  {
   "cell_type": "code",
   "execution_count": 12,
   "id": "35c20224-f8b8-4931-ad16-07c00b42af72",
   "metadata": {},
   "outputs": [
    {
     "data": {
      "text/plain": [
       "(array([0, 1, 2, 3, 4, 5, 6, 7, 8, 9], dtype=int32),\n",
       " array([13342, 13137, 10619, 12312, 30832, 19249, 13185, 14887,  7113,\n",
       "        20886]))"
      ]
     },
     "execution_count": 12,
     "metadata": {},
     "output_type": "execute_result"
    }
   ],
   "source": [
    "np.unique(km.labels_,return_counts=1)"
   ]
  },
  {
   "cell_type": "code",
   "execution_count": 13,
   "id": "47ec5fbe-7e4d-4172-b6c0-ca0874460ce8",
   "metadata": {},
   "outputs": [
    {
     "data": {
      "text/plain": [
       "array(['en', 'du', 'par', ..., 'elfi', 'netim', 'mdt'], dtype='<U98')"
      ]
     },
     "execution_count": 13,
     "metadata": {},
     "output_type": "execute_result"
    }
   ],
   "source": [
    "words[km.labels_==5]"
   ]
  },
  {
   "cell_type": "code",
   "execution_count": 14,
   "id": "b802268f-4e9e-40d3-ad85-9bbac3d99962",
   "metadata": {},
   "outputs": [],
   "source": [
    "def trouver_cluster(kmeans: KMeans(), mot: str):\n",
    "    return kmeans.labels_[model.get_index(mot)]"
   ]
  },
  {
   "cell_type": "code",
   "execution_count": 15,
   "id": "261b8aa6-cc03-49ba-b6d6-70eac8bc5751",
   "metadata": {},
   "outputs": [],
   "source": [
    "def afficher_mots_cluster(kmeans: KMeans(), words: np.ndarray, id_cluster: int, n: int = 10):\n",
    "    return words[kmeans.labels_==id_cluster][:n]"
   ]
  },
  {
   "cell_type": "code",
   "execution_count": 16,
   "id": "99435fba-f83a-4ecc-8e54-5f29b43bfe7b",
   "metadata": {},
   "outputs": [],
   "source": [
    "def mots_similaires(kmeans: KMeans(), mot: str, topn: int = 10):\n",
    "    mots_similaires = model.most_similar(positive=[mot], topn=topn)\n",
    "    clusters = np.array([(m, sc, trouver_cluster(kmeans, m)) for m, sc in mots_similaires])\n",
    "    return clusters"
   ]
  },
  {
   "cell_type": "code",
   "execution_count": 113,
   "id": "a90d1bb5-2290-4177-9e16-fd8d3e736eb2",
   "metadata": {},
   "outputs": [
    {
     "data": {
      "text/plain": [
       "9"
      ]
     },
     "execution_count": 113,
     "metadata": {},
     "output_type": "execute_result"
    }
   ],
   "source": [
    "trouver_cluster(km, 'fleur')"
   ]
  },
  {
   "cell_type": "code",
   "execution_count": 115,
   "id": "eb82fc1f-260a-46b2-8aa8-8606d2eb51fa",
   "metadata": {},
   "outputs": [
    {
     "data": {
      "text/plain": [
       "array(['traitement', 'maladie', 'médecin', 'peau', 'patients',\n",
       "       'diagnostic', 'espèces', 'maladies', 'cellules', 'facteurs',\n",
       "       'plantes', 'cancer', 'patient', 'traitements', 'virus',\n",
       "       'médicaments', 'malades', 'troubles', 'clinique', 'biologie',\n",
       "       'biologique', 'douleur', 'chimiques', 'cerveau', 'aliments',\n",
       "       'adulte', 'examens', 'génétique', 'sommeil', 'diminution',\n",
       "       'substances', 'chimique', 'grossesse', 'stress', 'organique',\n",
       "       'biologiques', 'plante', 'organes', 'acide', 'mg', 'ml',\n",
       "       'protéines', 'chirurgie', 'hospitalisation', 'indications', 'adn',\n",
       "       'molécules', 'prélèvement', 'thérapeutique', 'os', 'grade',\n",
       "       'composés', 'médicament', 'cliniques', 'substance', 'tissus',\n",
       "       'secondaires', 'fibres', 'dose', 'huiles', 'imagerie', 'foie',\n",
       "       'oxygène', 'indication', 'incidence', 'végétaux', 'prescription',\n",
       "       'moléculaire', 'insectes', 'acides', 'gènes', 'vieillissement',\n",
       "       'organe', 'symptômes', 'animale', 'cellulaire', 'dépistage',\n",
       "       'infection', 'douleurs', 'syndrome', 'cancers', 'atteints',\n",
       "       'organiques', 'dépression', 'teneur', 'thérapeutiques',\n",
       "       'insuffisance', 'gène', 'injection', 'infections', 'pathologies',\n",
       "       'minéraux', 'mortalité', 'pathologie', 'cardiaque', 'muscles',\n",
       "       'cure', 'nerveux', 'contamination', 'végétale'], dtype='<U98')"
      ]
     },
     "execution_count": 115,
     "metadata": {},
     "output_type": "execute_result"
    }
   ],
   "source": [
    "afficher_mots_cluster(km, words, trouver_cluster(km, 'maladie'), n=100)"
   ]
  },
  {
   "cell_type": "markdown",
   "id": "7898e6e3",
   "metadata": {},
   "source": [
    "Ça marche très bien pour maladie."
   ]
  },
  {
   "cell_type": "code",
   "execution_count": 133,
   "id": "e0ea0aea",
   "metadata": {},
   "outputs": [
    {
     "data": {
      "text/plain": [
       "array(['#', 'voyage', 'afrique', 'el', 'chine', 'vol', 'match', 'no',\n",
       "       'île', 'italie', 'espagne', 'finale', 'capitale', 'al', 'los',\n",
       "       'traduction', 'del', 'rome', 'chinois', 'algérie', 'hotel', 'camp',\n",
       "       'turquie', 'déjeuner', 'maroc', 'asie', 'aéroport', 'russie',\n",
       "       'las', 'espagnol', 'inde', 'é', 'arabe', 'frontière', 'province',\n",
       "       'juifs', 'italien', 'russe', '§', 'allah', 'islam', 'di', 'temple',\n",
       "       'berlin', 'îles', 'san', 'brésil', 'linguistique', 'buts', 'vols',\n",
       "       'musulmans', 'nationalité', 'dîner', 'egypte', 'latin', 'iran',\n",
       "       'opéra', 'josé', 'empereur', 'una', 'pologne', 'arabes',\n",
       "       'réfugiés', 'liban', 'tunisie', 'portugal', 'grec', 'orient',\n",
       "       'grèce', 'da', 'li', 'por', 'para', 'italienne', 'chinoise',\n",
       "       'alger', 'latine', 'madrid', 'mi', 'prophète', 'mexique',\n",
       "       'autriche', 'pacifique', 'ad', 'milan', 'can', 'olympique',\n",
       "       'vainqueur', 'barcelone', 'argentine', 'jérusalem', 'do', 'der',\n",
       "       'antique', 'originaire', 'orientale', 'sénégal', 'espagnole',\n",
       "       'coran', 'monaco'], dtype='<U98')"
      ]
     },
     "execution_count": 133,
     "metadata": {},
     "output_type": "execute_result"
    }
   ],
   "source": [
    "afficher_mots_cluster(km, words, trouver_cluster(km, 'hay'), n=100)"
   ]
  },
  {
   "cell_type": "code",
   "execution_count": 94,
   "id": "073b2ab4-af57-4527-ba6b-54603fdb9274",
   "metadata": {},
   "outputs": [
    {
     "data": {
      "text/plain": [
       "[('pétales', 0.7091421484947205),\n",
       " ('orchidée', 0.6780675649642944),\n",
       " ('pétale', 0.6706686615943909),\n",
       " ('fleurs', 0.6681479215621948),\n",
       " ('tulipe', 0.649394690990448),\n",
       " ('chrysanthème', 0.6425840854644775),\n",
       " ('rose', 0.6412376761436462),\n",
       " ('fleurit', 0.6052149534225464),\n",
       " ('jasmin', 0.6042757034301758),\n",
       " ('lys', 0.6012750864028931)]"
      ]
     },
     "execution_count": 94,
     "metadata": {},
     "output_type": "execute_result"
    }
   ],
   "source": [
    "model.most_similar('fleur')"
   ]
  },
  {
   "cell_type": "markdown",
   "id": "9e347642",
   "metadata": {},
   "source": [
    "Ça marche très bien pour fleur."
   ]
  },
  {
   "cell_type": "code",
   "execution_count": 134,
   "id": "921d0ca8",
   "metadata": {},
   "outputs": [
    {
     "data": {
      "text/plain": [
       "[('incurable', 0.6708134412765503),\n",
       " ('neurodégénérative', 0.6285406351089478),\n",
       " ('alzheimer', 0.6073530316352844),\n",
       " ('maladies', 0.5668352842330933),\n",
       " ('assurance', 0.5577492713928223),\n",
       " ('cnamts', 0.5450106859207153),\n",
       " ('diagnostiquée', 0.5407942533493042),\n",
       " ('ald', 0.5399412512779236),\n",
       " ('invalidante', 0.5342087149620056),\n",
       " ('curable', 0.5283808708190918)]"
      ]
     },
     "execution_count": 134,
     "metadata": {},
     "output_type": "execute_result"
    }
   ],
   "source": [
    "model.most_similar('maladie')"
   ]
  },
  {
   "cell_type": "markdown",
   "id": "7b8277e1",
   "metadata": {},
   "source": [
    "Ça marche très bien pour maladie."
   ]
  },
  {
   "cell_type": "code",
   "execution_count": 143,
   "id": "3d845118",
   "metadata": {},
   "outputs": [
    {
     "data": {
      "text/plain": [
       "[('muy', 0.5672058463096619),\n",
       " ('competencia', 0.5590075850486755),\n",
       " ('experiencia', 0.5581974387168884),\n",
       " ('astrología', 0.5524370074272156),\n",
       " ('propia', 0.5488606095314026),\n",
       " ('único', 0.5454645156860352),\n",
       " ('manera', 0.5420976281166077),\n",
       " ('representa', 0.5397042036056519),\n",
       " ('esta', 0.5382519960403442),\n",
       " ('llamado', 0.5348697900772095)]"
      ]
     },
     "execution_count": 143,
     "metadata": {},
     "output_type": "execute_result"
    }
   ],
   "source": [
    "model.most_similar('enfermedad')"
   ]
  },
  {
   "cell_type": "markdown",
   "id": "7a299702",
   "metadata": {},
   "source": [
    "De prime abord, on peut se dire que ça ne marche pas car ça ne met pas des mots du lexique de la maladie en espagnol.\n",
    "Mais en fait, comme c'est un corpus issu de sites web en français, ça a mis tous les mots espagnols ensemble!\n"
   ]
  },
  {
   "cell_type": "code",
   "execution_count": 142,
   "id": "7a91198f-07a5-4f3f-a19f-2d2212d89041",
   "metadata": {},
   "outputs": [
    {
     "data": {
      "text/plain": [
       "array([['epagneul', '0.7329717874526978', '0'],\n",
       "       ['chienne', '0.6023692488670349', '0'],\n",
       "       ['chiot', '0.5978718996047974', '0'],\n",
       "       ['chien', '0.5786705613136292', '0'],\n",
       "       ['labrador', '0.5748332142829895', '0']], dtype='<U32')"
      ]
     },
     "execution_count": 142,
     "metadata": {},
     "output_type": "execute_result"
    }
   ],
   "source": [
    "mots_similaires(km, 'épagneul', topn=5)"
   ]
  },
  {
   "cell_type": "markdown",
   "id": "20c8050d",
   "metadata": {},
   "source": [
    "Ça marche très bien pour épagneul aussi :D"
   ]
  },
  {
   "cell_type": "code",
   "execution_count": 138,
   "id": "ac1a7a12",
   "metadata": {},
   "outputs": [
    {
     "data": {
      "text/plain": [
       "array([['me', '0.9032889008522034', '0'],\n",
       "       ['suis', '0.8511512279510498', '0'],\n",
       "       [\"m'\", '0.8405840396881104', '0'],\n",
       "       [\"j'\", '0.8162933588027954', '0'],\n",
       "       ['moi', '0.8143643140792847', '0'],\n",
       "       ['sais', '0.8072934746742249', '0'],\n",
       "       ['mon', '0.784636378288269', '0'],\n",
       "       ['crois', '0.7565917372703552', '0'],\n",
       "       ['connais', '0.7471164464950562', '0'],\n",
       "       ['ma', '0.7428123950958252', '0']], dtype='<U32')"
      ]
     },
     "execution_count": 138,
     "metadata": {},
     "output_type": "execute_result"
    }
   ],
   "source": [
    "mots_similaires(km, 'je', topn=10)"
   ]
  },
  {
   "cell_type": "markdown",
   "id": "0b34ed4e",
   "metadata": {},
   "source": [
    "C'est vraiment très fort."
   ]
  },
  {
   "cell_type": "code",
   "execution_count": 139,
   "id": "9cdabfdd-59b1-4a56-ba1f-e912e854d8f6",
   "metadata": {},
   "outputs": [],
   "source": [
    "sub_words = words[km.labels_==trouver_cluster(km, 'maladie')]\n",
    "sub_vectors = vectors[km.labels_==trouver_cluster(km, 'maladie')]"
   ]
  },
  {
   "cell_type": "code",
   "execution_count": 140,
   "id": "8a66c5af-185e-43d5-96f2-3970260956be",
   "metadata": {
    "scrolled": true
   },
   "outputs": [
    {
     "name": "stdout",
     "output_type": "stream",
     "text": [
      "CPU times: user 626 ms, sys: 152 ms, total: 779 ms\n",
      "Wall time: 118 ms\n"
     ]
    }
   ],
   "source": [
    "%%time\n",
    "sub_km = KMeans(n_clusters = 10, init='k-means++', random_state=91000)\n",
    "sub_km = sub_km.fit(sub_vectors)"
   ]
  },
  {
   "cell_type": "code",
   "execution_count": 98,
   "id": "19152b3d-5b44-408a-8c75-b8ce1342505c",
   "metadata": {},
   "outputs": [
    {
     "data": {
      "text/plain": [
       "(array([0, 1, 2, 3, 4, 5, 6, 7, 8, 9], dtype=int32),\n",
       " array([   2, 1075,  628,  597,  853,  576,  746,  922,  774,  940]))"
      ]
     },
     "execution_count": 98,
     "metadata": {},
     "output_type": "execute_result"
    }
   ],
   "source": [
    "np.unique(sub_km.labels_, return_counts=1)"
   ]
  },
  {
   "cell_type": "code",
   "execution_count": 99,
   "id": "b600fa44-0df3-40d1-85c2-341e184759d6",
   "metadata": {},
   "outputs": [
    {
     "data": {
      "text/plain": [
       "array(['traitement', 'médecin', 'diagnostic', 'cancer', 'patient',\n",
       "       'traitements', 'clinique', 'examens', 'grossesse', 'chirurgie',\n",
       "       'hospitalisation', 'indications', 'prélèvement', 'thérapeutique',\n",
       "       'grade', 'cliniques', 'imagerie', 'foie', 'indication',\n",
       "       'dépistage', 'cancers', 'greffe', 'accouchement', 'tumeur',\n",
       "       'anomalies', 'complications', 'tumeurs', 'observée', 'opératoire',\n",
       "       'anesthésie'], dtype='<U98')"
      ]
     },
     "execution_count": 99,
     "metadata": {},
     "output_type": "execute_result"
    }
   ],
   "source": [
    "afficher_mots_cluster(sub_km, sub_words, 1, n=30)"
   ]
  },
  {
   "cell_type": "markdown",
   "id": "2ea4d75a-fb2d-4f86-847f-42679c4573bc",
   "metadata": {},
   "source": [
    "Recherche de représentant des clusters"
   ]
  },
  {
   "cell_type": "code",
   "execution_count": 100,
   "id": "0ee1188d-efe1-4180-94d9-41e164d007b5",
   "metadata": {},
   "outputs": [],
   "source": [
    "def get_similarity_matrix(kmeans: KMeans(), words: np.ndarray, id_cluster: int):\n",
    "    \n",
    "    N = sum(kmeans.labels_==id_cluster)\n",
    "    similarities = np.zeros((N,N))\n",
    "    words_cluster = words[kmeans.labels_==id_cluster]\n",
    "    vectors_cluster = np.array([model.get_vector(mot) for mot in words_cluster])\n",
    "    for id_mot, mot in enumerate(words_cluster):\n",
    "        similarities[id_mot,:] = model.cosine_similarities(model.get_vector(mot), vectors_cluster)\n",
    "\n",
    "    return similarities"
   ]
  },
  {
   "cell_type": "code",
   "execution_count": 101,
   "id": "2fd92ee8-dffb-4472-b0e0-996fd810d428",
   "metadata": {},
   "outputs": [],
   "source": [
    "def trouver_representant(kmeans: KMeans(), words: np.ndarray, id_cluster: int):\n",
    "    words_cluster = words[kmeans.labels_==id_cluster]\n",
    "    similarities_matrix = get_similarity_matrix(kmeans, words, id_cluster)\n",
    "    id_representant = np.argmax(similarities_matrix.mean(axis=1))\n",
    "    return words_cluster[id_representant]"
   ]
  },
  {
   "cell_type": "code",
   "execution_count": 102,
   "id": "c00b53c2-b3fb-4efd-a72d-af981d974a89",
   "metadata": {},
   "outputs": [
    {
     "name": "stdout",
     "output_type": "stream",
     "text": [
      "CPU times: user 524 ms, sys: 15.1 ms, total: 540 ms\n",
      "Wall time: 72.3 ms\n"
     ]
    },
    {
     "data": {
      "text/plain": [
       "'oxydation'"
      ]
     },
     "execution_count": 102,
     "metadata": {},
     "output_type": "execute_result"
    }
   ],
   "source": [
    "%%time\n",
    "trouver_representant(sub_km, sub_words, 6)"
   ]
  },
  {
   "cell_type": "markdown",
   "id": "d07a235b",
   "metadata": {},
   "source": [
    "OK, c'est assez improbable."
   ]
  },
  {
   "cell_type": "code",
   "execution_count": 103,
   "id": "4ac80e43-509c-4cdf-b85d-eb3669e7da55",
   "metadata": {},
   "outputs": [],
   "source": [
    "from sklearn_extra.cluster import KMedoids"
   ]
  },
  {
   "cell_type": "code",
   "execution_count": 104,
   "id": "18198f8c-effe-48cd-b95d-3389454aa23a",
   "metadata": {},
   "outputs": [],
   "source": [
    "kmed = KMedoids(n_clusters=10, init='k-medoids++', random_state=91000)"
   ]
  },
  {
   "cell_type": "code",
   "execution_count": 105,
   "id": "91b3a35c-1d6e-4831-aed1-0649392f86e1",
   "metadata": {},
   "outputs": [
    {
     "name": "stdout",
     "output_type": "stream",
     "text": [
      "CPU times: user 3.57 s, sys: 249 ms, total: 3.82 s\n",
      "Wall time: 906 ms\n"
     ]
    }
   ],
   "source": [
    "%%time\n",
    "kmed = kmed.fit(sub_vectors)"
   ]
  },
  {
   "cell_type": "code",
   "execution_count": 106,
   "id": "e241b7e0-500e-4d4c-951e-cb4160237193",
   "metadata": {},
   "outputs": [
    {
     "data": {
      "text/plain": [
       "(array([0, 1, 2, 3, 4, 5, 6, 7, 8, 9]),\n",
       " array([  12,  424,  399,   33,  188,   51, 5346,  317,  186,  157]))"
      ]
     },
     "execution_count": 106,
     "metadata": {},
     "output_type": "execute_result"
    }
   ],
   "source": [
    "np.unique(kmed.labels_,return_counts=1)"
   ]
  },
  {
   "cell_type": "code",
   "execution_count": 107,
   "id": "ae01ccf2-6b91-49f7-b241-b9f653f432c5",
   "metadata": {},
   "outputs": [
    {
     "data": {
      "text/plain": [
       "array(['diffuses', 'antipaludéens', 'sévères', 'rétiniens', 'prophylaxie',\n",
       "       'capsule', 'classiquement', 'peau', 'stérilité', 'tissulaire'],\n",
       "      dtype='<U98')"
      ]
     },
     "execution_count": 107,
     "metadata": {},
     "output_type": "execute_result"
    }
   ],
   "source": [
    "sub_words[kmed.medoid_indices_]"
   ]
  },
  {
   "cell_type": "code",
   "execution_count": 108,
   "id": "2e376666-6e9b-4717-a32d-00e802485673",
   "metadata": {},
   "outputs": [
    {
     "data": {
      "text/plain": [
       "'stérilité'"
      ]
     },
     "execution_count": 108,
     "metadata": {},
     "output_type": "execute_result"
    }
   ],
   "source": [
    "trouver_representant(kmed, sub_words,8)"
   ]
  }
 ],
 "metadata": {
  "kernelspec": {
   "display_name": "Python 3 (ipykernel)",
   "language": "python",
   "name": "python3"
  },
  "language_info": {
   "codemirror_mode": {
    "name": "ipython",
    "version": 3
   },
   "file_extension": ".py",
   "mimetype": "text/x-python",
   "name": "python",
   "nbconvert_exporter": "python",
   "pygments_lexer": "ipython3",
   "version": "3.10.6"
  }
 },
 "nbformat": 4,
 "nbformat_minor": 5
}
