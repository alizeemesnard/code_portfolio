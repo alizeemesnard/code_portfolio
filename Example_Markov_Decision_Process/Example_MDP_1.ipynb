{
 "cells": [
  {
   "cell_type": "markdown",
   "metadata": {},
   "source": [
    "# Example MDP: discounted MDP  "
   ]
  },
  {
   "cell_type": "markdown",
   "metadata": {},
   "source": [
    "## Using the library"
   ]
  },
  {
   "cell_type": "markdown",
   "metadata": {},
   "source": [
    "**Import the modules**"
   ]
  },
  {
   "cell_type": "markdown",
   "metadata": {},
   "source": [
    "The following commands allows to import the modules"
   ]
  },
  {
   "cell_type": "code",
   "execution_count": 1,
   "metadata": {},
   "outputs": [],
   "source": [
    "import marmote.core as mc \n",
    "import marmote.mdp as mmdp  "
   ]
  },
  {
   "cell_type": "markdown",
   "metadata": {},
   "source": [
    "It is necessary to import the modules *marmote.core* and *marmote.mdp* from *pyMarmote* library.  \n",
    "Hence *marmote.core* handles the basic objects (*Sets* (very similar to tensors), *distributions*, *matrices*,...)  \n",
    "Hence *marmote.mdp* handles the objects for Markov Decision Processes."
   ]
  },
  {
   "cell_type": "markdown",
   "metadata": {},
   "source": [
    "In this first lesson, we show how to make and how to solve a simple infinite-horizon discounted criteria MDP."
   ]
  },
  {
   "cell_type": "markdown",
   "metadata": {},
   "source": [
    "## Build a simple MDP"
   ]
  },
  {
   "cell_type": "markdown",
   "metadata": {},
   "source": [
    "### Reminders about  MDP"
   ]
  },
  {
   "cell_type": "markdown",
   "metadata": {},
   "source": [
    "Formally a MDP is a tuple *(S,A,P_a,R)* where  \n",
    "+ S is the state space  \n",
    "+ A is the action space  \n",
    "+ P_a is a collection of transition matrices. A matrix for each action  \n",
    "+ R is a reward (or cost) matrix  "
   ]
  },
  {
   "cell_type": "markdown",
   "metadata": {},
   "source": [
    "#### Description of the exemple implemented here"
   ]
  },
  {
   "cell_type": "markdown",
   "metadata": {},
   "source": [
    "We assume a simple model with two states x1=0 and x2=1 and in each state: two actions a1=0 and a2=1.\n",
    "\n",
    "The reward matrix is:  \n",
    "\n",
    "|      |       |\n",
    "|:----:| :----:|\n",
    "| 4.5  |  2    |\n",
    "| -1.5 | 3.0   |\n",
    "\n",
    "where *r(x,a)* is the entry with row coordinate $x$ and column coordinate $a$.   \n",
    "The entry *r(x,a)* represents the reward when in state *x* action *a* is performed.\n",
    "\n",
    "\n",
    "The transition matrices are :\n",
    "\n",
    "Transition matrix of the action 0:    \n",
    "\n",
    "|      |       |\n",
    "|:----:| :----:|\n",
    "| 0.6  |  0.4  |\n",
    "| 0.5  |  0.5  |\n",
    "\n",
    "  \n",
    "Transition matrix of the action 1:  \n",
    "\n",
    "|      |       |\n",
    "|:----:| :----:|\n",
    "| 0.2  |  0.8  |\n",
    "| 0.7  |  0.3  |"
   ]
  },
  {
   "cell_type": "markdown",
   "metadata": {},
   "source": [
    "### Elements of a MDP object"
   ]
  },
  {
   "cell_type": "markdown",
   "metadata": {},
   "source": [
    "#### Attributes of the object"
   ]
  },
  {
   "cell_type": "markdown",
   "metadata": {},
   "source": [
    "A MDP in marmote is an object that receives (at least) four important attributes\n",
    " \n",
    "1. The *state space* that is a *MarmoteSet* object (an object to deal with Sets).   \n",
    "The simplest *MarmoteSet* object is the object *MarmoteInterval*. Here we use a *MarmoteInterval* for the state space.\n",
    "2. The action space is also a *MarmoteSet* object. \n",
    "In our case also a *MarmoteInterval* object.\n",
    "3. A *list* of transition structures.  \n",
    "Each entry in the list corresponds with a *TransitionStructure* associated with a given action.  \n",
    "  - The *TransitionStructure* at the *a*-th entry of the list is the *TransitionStructure* associated \n",
    " with the action whose index is *a*.\n",
    "  - A *TransitionStructure* describes the probability transition to move from a state *i* into state *j*.\n",
    "  - The *TransitionStructure* can be a *FullMatrix* or a *SparseMatrix*. Here the *(i,j)* entry of a matrix gives the probability to move from state with index *i* to state with index *j*.\n",
    "4. a reward (or cost).  \n",
    "This is a TransitionStructure (preferably a FullMatrix) in which the cost for an action *a* in a state *x* is defined.\n",
    "Rows are used for indexes of states and columns are used for indexes of action. Hence the entry with indexes *(x,a)* represents the  cost of action of index *a* in state of index *x*;\n"
   ]
  },
  {
   "cell_type": "markdown",
   "metadata": {},
   "source": [
    "#### How to build the DiscountedMDP object"
   ]
  },
  {
   "cell_type": "markdown",
   "metadata": {},
   "source": [
    "**Create state space and action space**"
   ]
  },
  {
   "cell_type": "markdown",
   "metadata": {},
   "source": [
    "Here we define two objects `MarmoteInterval` for state and action spaces. The two following lines define two intervals going from 0 to 1."
   ]
  },
  {
   "cell_type": "code",
   "execution_count": 2,
   "metadata": {},
   "outputs": [],
   "source": [
    "actionSpace = mc.MarmoteInterval(0,1) \n",
    "stateSpace = mc.MarmoteInterval(0,1)"
   ]
  },
  {
   "cell_type": "markdown",
   "metadata": {},
   "source": [
    "**Storing matrices**"
   ]
  },
  {
   "cell_type": "markdown",
   "metadata": {},
   "source": [
    "A `list` is used to store all transition matrices.  \n",
    "The number of matrices should correspond with the size of the action space."
   ]
  },
  {
   "cell_type": "code",
   "execution_count": 3,
   "metadata": {},
   "outputs": [],
   "source": [
    "trans=list()"
   ]
  },
  {
   "cell_type": "markdown",
   "metadata": {},
   "source": [
    "**Build transition matrices**"
   ]
  },
  {
   "cell_type": "markdown",
   "metadata": {},
   "source": [
    "Now, we create P0 an object `SparseMatrix` with size 2x2. The P0 matrix is a transition matrix."
   ]
  },
  {
   "cell_type": "code",
   "execution_count": 4,
   "metadata": {},
   "outputs": [],
   "source": [
    "P0 = mc.SparseMatrix(2)"
   ]
  },
  {
   "cell_type": "markdown",
   "metadata": {},
   "source": [
    "The command to initialize an entry is `setEntry` with syntax `setEntry(row,column,value)`   \n",
    "Hence: the command `P0.setEntry(0,0,0.6)` assigns the value 0.6 to the entry of index (0, 0) of P0.\n",
    "\n",
    "Now, we define 4 non null entries to P0 matrix."
   ]
  },
  {
   "cell_type": "code",
   "execution_count": 5,
   "metadata": {},
   "outputs": [
    {
     "data": {
      "text/plain": [
       "True"
      ]
     },
     "execution_count": 5,
     "metadata": {},
     "output_type": "execute_result"
    }
   ],
   "source": [
    "P0.setEntry(0,0,0.6)\n",
    "P0.setEntry(0,1,0.4)\n",
    "P0.setEntry(1,0,0.5)\n",
    "P0.setEntry(1,1,0.5)"
   ]
  },
  {
   "cell_type": "markdown",
   "metadata": {},
   "source": [
    "Then one prints the matrix"
   ]
  },
  {
   "cell_type": "code",
   "execution_count": 6,
   "metadata": {},
   "outputs": [
    {
     "name": "stdout",
     "output_type": "stream",
     "text": [
      "Matrix [[6.000000e-01, 4.000000e-01],\n",
      " [5.000000e-01, 5.000000e-01]]\n",
      "\n"
     ]
    }
   ],
   "source": [
    "print(\"Matrix\",P0)"
   ]
  },
  {
   "cell_type": "markdown",
   "metadata": {},
   "source": [
    "The next instruction assigns the matrix P0 to the index 0 coordinate of the `trans` list, which means that the transition matrix for the action a0 is now stored at index 0 of the `trans` list."
   ]
  },
  {
   "cell_type": "code",
   "execution_count": 7,
   "metadata": {},
   "outputs": [],
   "source": [
    "trans.append(P0) "
   ]
  },
  {
   "cell_type": "markdown",
   "metadata": {},
   "source": [
    "We now add a new `SparseMatrix`. Note that a `SparseMatrix` is an object of *marmote.core*."
   ]
  },
  {
   "cell_type": "code",
   "execution_count": 8,
   "metadata": {},
   "outputs": [],
   "source": [
    "P1 = mc.SparseMatrix(2)\n",
    "P1.setEntry(0,0,0.2)\n",
    "P1.setEntry(0,1,0.8)\n",
    "P1.setEntry(1,0,0.7)\n",
    "P1.setEntry(1,1,0.3)\n",
    "trans.append(P1)"
   ]
  },
  {
   "cell_type": "markdown",
   "metadata": {},
   "source": [
    "**Build reward matrix**"
   ]
  },
  {
   "cell_type": "markdown",
   "metadata": {},
   "source": [
    "We create a `FullMatrix`object with size 2x2. This matrix is used for storing the rewards associated with each couple (state,action)."
   ]
  },
  {
   "cell_type": "code",
   "execution_count": 9,
   "metadata": {},
   "outputs": [],
   "source": [
    "Reward  = mc.FullMatrix(2,2)"
   ]
  },
  {
   "cell_type": "markdown",
   "metadata": {},
   "source": [
    "The following lines add non-zero values to the matrix *Reward*. More precisely: \n",
    "\n",
    "- The first line adds the value 4.5 to position (0, 0) in the matrix.\n",
    "- The second line adds the value 2 to position (1, 1) in the matrix.\n",
    "- The third line adds the value -1.5 to position (1, 0) in the matrix.\n",
    "- The fourth line adds the value  3 to position (1, 1) in the matrix.\n"
   ]
  },
  {
   "cell_type": "code",
   "execution_count": 10,
   "metadata": {},
   "outputs": [
    {
     "data": {
      "text/plain": [
       "True"
      ]
     },
     "execution_count": 10,
     "metadata": {},
     "output_type": "execute_result"
    }
   ],
   "source": [
    "Reward.setEntry(0,0,4.5) \n",
    "Reward.setEntry(0,1,2)\n",
    "Reward.setEntry(1,0,-1.5) \n",
    "Reward.setEntry(1,1,3)"
   ]
  },
  {
   "cell_type": "markdown",
   "metadata": {},
   "source": [
    "**Additional parameters of the discounted MDP**"
   ]
  },
  {
   "cell_type": "markdown",
   "metadata": {},
   "source": [
    "Two additional parameters should be entered : *beta* and *critere*     \n",
    "- *beta* is the discount factor for incorporating future values.  \n",
    "- *critère* indicates the optimisation criterion, which is either maximisation (*\"max\"*) or minimisation (*\"min\"*)."
   ]
  },
  {
   "cell_type": "code",
   "execution_count": 11,
   "metadata": {},
   "outputs": [],
   "source": [
    "beta = 0.95\n",
    "criterion=\"max\""
   ]
  },
  {
   "cell_type": "markdown",
   "metadata": {},
   "source": [
    "**Build a discounted MDP**"
   ]
  },
  {
   "cell_type": "markdown",
   "metadata": {},
   "source": [
    "We now construct a `DiscountedMDP` object using the constructor, to which we pass the parameters defined in this page. Parameters of a `DiscountedMDP` are:     \n",
    "- *criterion* either *min* or *max*  \n",
    "- an object that encodes the state space  \n",
    "- an object that encodes the action space  \n",
    "- a list of TransitionStructure  \n",
    "- a reward  \n",
    "- the discount factor  "
   ]
  },
  {
   "cell_type": "code",
   "execution_count": 12,
   "metadata": {},
   "outputs": [],
   "source": [
    "mdp = mmdp.DiscountedMDP(criterion, stateSpace, actionSpace, trans, Reward, beta) "
   ]
  },
  {
   "cell_type": "markdown",
   "metadata": {},
   "source": [
    "Now one prints the MDP. This is used to display the various components of the MDP, such as state and action spaces, transition matrices and reward."
   ]
  },
  {
   "cell_type": "code",
   "execution_count": 13,
   "metadata": {},
   "outputs": [
    {
     "name": "stdout",
     "output_type": "stream",
     "text": [
      "#############################################\n",
      "Model: Infinite Horizon Discounted MDP\n",
      "MDP Criteria : infinite horizon discounted\n",
      "Discount factor:0.95\n",
      "#############################################\n",
      "MDP type (discrete,continuous): discrete\n",
      "MDP rule (min,max): max\n",
      "State space size: 2\n",
      "Action space size: 2\n",
      "State  dimension: 1\n",
      "Action dimension: 1\n",
      "#############################################\n",
      "Transition matrix per action:\n",
      "action: 0\n",
      "         0          0 6.000000e-01\n",
      "         0          1 4.000000e-01\n",
      "         1          0 5.000000e-01\n",
      "         1          1 5.000000e-01\n",
      "\n",
      "action: 1\n",
      "         0          0 2.000000e-01\n",
      "         0          1 8.000000e-01\n",
      "         1          0 7.000000e-01\n",
      "         1          1 3.000000e-01\n",
      "\n",
      "#############################################\n",
      "Reward Matrix (state,action):\n",
      "         0          0 4.500000e+00\n",
      "         0          1 2.000000e+00\n",
      "         1          0 -1.500000e+00\n",
      "         1          1 3.000000e+00\n",
      "\n",
      "#############################################\n",
      "\n",
      "\n"
     ]
    }
   ],
   "source": [
    "print(mdp)"
   ]
  },
  {
   "cell_type": "markdown",
   "metadata": {},
   "source": [
    "## Solving the MDP"
   ]
  },
  {
   "cell_type": "markdown",
   "metadata": {},
   "source": [
    "### List of solution methods"
   ]
  },
  {
   "cell_type": "markdown",
   "metadata": {},
   "source": [
    "We list here the different methods implemented to solve discounted Markov Decision processes. Detail of the methods can be found in the literature.  All these methods return a `FeedbackSolutionMDP` object.\n",
    "1. method *Value Iteration* method name `ValueIteration`  \n",
    "2. method *Value Iteration using Gauss Seidel* method name `ValueIterationGS`   \n",
    "3. method Value Iteration with a given value function for initiate the process method name `ValueIterationInit`   \n",
    "4. method Policy Iteration Modified method name `PolicyIterationModified`  \n",
    "5. method Policy Iteration Modified with Gauss Seidel method name `PolicyIterationModifiedGS`  "
   ]
  },
  {
   "cell_type": "markdown",
   "metadata": {},
   "source": [
    "### Running a solution method"
   ]
  },
  {
   "cell_type": "markdown",
   "metadata": {},
   "source": [
    "**Value-iteration**"
   ]
  },
  {
   "cell_type": "markdown",
   "metadata": {},
   "source": [
    "Parameters:  \n",
    "1. *epsilon* a precision threshold used to determine the convergence of the  algorithm. The algorithm continues to iterate as long as the maximal difference between the new  values and the old values in a state is greater than epsilon.   \n",
    "2. *maxIter* gives the maximal number of authorized iterations. "
   ]
  },
  {
   "cell_type": "code",
   "execution_count": 14,
   "metadata": {},
   "outputs": [],
   "source": [
    "epsilon = 0.00001\n",
    "maxIter = 700"
   ]
  },
  {
   "cell_type": "markdown",
   "metadata": {},
   "source": [
    "To run a resolution by iterating the value. In order to find both the optimal policy and the optimal value in each of the states. The method returns a stationary solution.  \n",
    "The function returns a `FeedbackSolutionMDP` object."
   ]
  },
  {
   "cell_type": "code",
   "execution_count": 15,
   "metadata": {},
   "outputs": [],
   "source": [
    "optimum = mdp.ValueIteration(epsilon, maxIter) "
   ]
  },
  {
   "cell_type": "markdown",
   "metadata": {},
   "source": [
    "Let us display the optimal solution of the Markov Decision Process."
   ]
  },
  {
   "cell_type": "code",
   "execution_count": 16,
   "metadata": {},
   "outputs": [
    {
     "name": "stdout",
     "output_type": "stream",
     "text": [
      "#############################################\n",
      "Solution of MDP problem\n",
      "Size of the state space: 2\n",
      "#############################################\n",
      "Solution model: Feedback Stationary Policy\n",
      "- column 1: index of the state\n",
      "- column 2: Value function \n",
      "- column 3: Optimal action \n",
      "\n",
      "  0            79.589   0\n",
      "  1           78.2192   1\n",
      "#############################################\n",
      "\n",
      "\n"
     ]
    }
   ],
   "source": [
    "print(optimum)"
   ]
  },
  {
   "cell_type": "markdown",
   "metadata": {},
   "source": [
    "**Gauss Seidel Value Iteration**"
   ]
  },
  {
   "cell_type": "markdown",
   "metadata": {},
   "source": [
    "The next line performs ten iterations of the value on the MDP to find the optimal policy and the optimal value of the states, but now using the Gauss-Seidel improvement for evaluating the value in a state.\n"
   ]
  },
  {
   "cell_type": "code",
   "execution_count": 17,
   "metadata": {},
   "outputs": [
    {
     "name": "stdout",
     "output_type": "stream",
     "text": [
      "#############################################\n",
      "Solution of MDP problem\n",
      "Size of the state space: 2\n",
      "#############################################\n",
      "Solution model: Feedback Stationary Policy\n",
      "- column 1: index of the state\n",
      "- column 2: Value function \n",
      "- column 3: Optimal action \n",
      "\n",
      "  0           38.9873   0\n",
      "  1           39.3571   1\n",
      "#############################################\n",
      "\n",
      "\n"
     ]
    }
   ],
   "source": [
    "optimum2 = mdp.ValueIterationGS(epsilon,10)\n",
    "print(optimum2)"
   ]
  },
  {
   "cell_type": "markdown",
   "metadata": {},
   "source": [
    "**Value Iteration Init**"
   ]
  },
  {
   "cell_type": "markdown",
   "metadata": {},
   "source": [
    "It is also possible to choose which value function will be used to start the value iteration process. To do this, one should enter a third parameter, which is an `FeedbackSolution` object whose `value` attribute will be used (see later for details about `FeedbackSolution`) to initiate the process."
   ]
  },
  {
   "cell_type": "code",
   "execution_count": 18,
   "metadata": {},
   "outputs": [
    {
     "name": "stdout",
     "output_type": "stream",
     "text": [
      "Optimum 3 #############################################\n",
      "Solution of MDP problem\n",
      "Size of the state space: 2\n",
      "#############################################\n",
      "Solution model: Feedback Stationary Policy\n",
      "- column 1: index of the state\n",
      "- column 2: Value function \n",
      "- column 3: Optimal action \n",
      "\n",
      "  0           79.5876   0\n",
      "  1           78.2178   1\n",
      "#############################################\n",
      "\n",
      "\n"
     ]
    }
   ],
   "source": [
    "optimum3 = mdp.ValueIterationInit(epsilon,200,optimum2)\n",
    "print(\"Optimum 3\",optimum3)"
   ]
  },
  {
   "cell_type": "markdown",
   "metadata": {},
   "source": [
    "**Policy Iteration Modified**"
   ]
  },
  {
   "cell_type": "markdown",
   "metadata": {},
   "source": [
    "In a policy-based approach, it is possible to evaluate a policy with a given precision that is not the same as the precision used to stop the process.  \n",
    "Please note that there is no implementation of the *Policy Iteration* algorithm. It has been chosen instead to implement the variant called *Policy Iteration Modified* in the book of Puterman.   \n",
    "Thus, *Policy Iteration Modified*  the third and fourth parameters will be the precision with which a policy will be evaluated and the maximum number of iterations allowed to approach the value."
   ]
  },
  {
   "cell_type": "code",
   "execution_count": 19,
   "metadata": {},
   "outputs": [
    {
     "name": "stdout",
     "output_type": "stream",
     "text": [
      "optimum4 #############################################\n",
      "Solution of MDP problem\n",
      "Size of the state space: 2\n",
      "#############################################\n",
      "Solution model: Feedback Stationary Policy\n",
      "- column 1: index of the state\n",
      "- column 2: Value function \n",
      "- column 3: Optimal action \n",
      "\n",
      "  0            79.589   0\n",
      "  1           78.2192   1\n",
      "#############################################\n",
      "\n",
      "\n"
     ]
    }
   ],
   "source": [
    "optimum4 = mdp.PolicyIterationModified(epsilon, maxIter, 0.001, 100)\n",
    "print(\"optimum4\",optimum4)"
   ]
  },
  {
   "cell_type": "markdown",
   "metadata": {},
   "source": [
    "**Printing Information during the solving process**"
   ]
  },
  {
   "cell_type": "markdown",
   "metadata": {},
   "source": [
    "The following instruction modifies the printing of internal information during the solving methods such as the number of iterations performed and the precision reached. When using notebook the print depends on the OS"
   ]
  },
  {
   "cell_type": "code",
   "execution_count": 20,
   "metadata": {},
   "outputs": [],
   "source": [
    "mdp.changeVerbosity(True)"
   ]
  },
  {
   "cell_type": "markdown",
   "metadata": {},
   "source": [
    "**Policy Iteration Modified with Gauss Seidel**"
   ]
  },
  {
   "cell_type": "markdown",
   "metadata": {},
   "source": [
    "The policy Iteration method can use (as described in Puterman's book) a Gauss Seidel evaluation. Please note that Policy Iteration Modified With Gauss Seidel Evaluation is not proven for all criteria (but for the disounted criteria it is)."
   ]
  },
  {
   "cell_type": "code",
   "execution_count": 21,
   "metadata": {},
   "outputs": [
    {
     "name": "stdout",
     "output_type": "stream",
     "text": [
      "last test #-- DiscountedMDP::Policy Iteration Modified with Gauss Seidel -- Done with 73 iterations and final distance=2.5413e-07 Required precision=2.63158e-07\n",
      "#############################################\n",
      "Solution of MDP problem\n",
      "Size of the state space: 2\n",
      "#############################################\n",
      "Solution model: Feedback Stationary Policy\n",
      "- column 1: index of the state\n",
      "- column 2: Value function \n",
      "- column 3: Optimal action \n",
      "\n",
      "  0            79.589   0\n",
      "  1           78.2192   1\n",
      "#############################################\n",
      "\n",
      "\n"
     ]
    }
   ],
   "source": [
    "optimum5 = mdp.PolicyIterationModifiedGS(epsilon, maxIter, 0.001, 100)\n",
    "print(\"last test\",optimum5)"
   ]
  },
  {
   "cell_type": "markdown",
   "metadata": {},
   "source": [
    "## About the SolutionMDP object"
   ]
  },
  {
   "cell_type": "markdown",
   "metadata": {},
   "source": [
    "The solution is stored with a `FeedbackSolutionMDP` object. This object has attributes that store a value and an action for each state.  \n",
    "The printing of a `FeedbackSolutionMDP` gives first information about the policy. The information for all the states in the state space is then displayed. All the information for a state is shown on one line, starting with the state index, the state value and the action associated with the value."
   ]
  },
  {
   "cell_type": "code",
   "execution_count": null,
   "metadata": {},
   "outputs": [],
   "source": []
  }
 ],
 "metadata": {
  "kernelspec": {
   "display_name": "marmote-use",
   "language": "python",
   "name": "python3"
  },
  "language_info": {
   "codemirror_mode": {
    "name": "ipython",
    "version": 3
   },
   "file_extension": ".py",
   "mimetype": "text/x-python",
   "name": "python",
   "nbconvert_exporter": "python",
   "pygments_lexer": "ipython3",
   "version": "3.11.11"
  }
 },
 "nbformat": 4,
 "nbformat_minor": 4
}
